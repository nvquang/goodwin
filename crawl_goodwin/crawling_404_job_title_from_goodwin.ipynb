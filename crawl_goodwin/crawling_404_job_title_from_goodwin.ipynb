{
 "cells": [
  {
   "cell_type": "code",
   "execution_count": 31,
   "metadata": {
    "collapsed": false,
    "deletable": true,
    "editable": true
   },
   "outputs": [],
   "source": [
    "import pandas as pd\n",
    "import clean_job_title as c\n",
    "import requests\n",
    "import json\n",
    "import time\n",
    "\n",
    "suggest_word_dict = pd.read_csv(\"words_not_in_en_2.csv\")"
   ]
  },
  {
   "cell_type": "code",
   "execution_count": 32,
   "metadata": {
    "collapsed": false,
    "deletable": true,
    "editable": true
   },
   "outputs": [],
   "source": [
    "err_title_pd = pd.read_csv(\"error_title.txt\")"
   ]
  },
  {
   "cell_type": "code",
   "execution_count": 33,
   "metadata": {
    "collapsed": true,
    "deletable": true,
    "editable": true
   },
   "outputs": [],
   "source": [
    "def clean_job_title(job_title):\n",
    "    clean_title, clean_score = c.standard_job_title(job_title, suggest_word_dict)\n",
    "    return clean_title"
   ]
  },
  {
   "cell_type": "code",
   "execution_count": 34,
   "metadata": {
    "collapsed": false,
    "deletable": true,
    "editable": true
   },
   "outputs": [],
   "source": [
    "err_title_pd['clean_title'] = err_title_pd.apply(lambda x: clean_job_title(x['job_title']), axis=1)"
   ]
  },
  {
   "cell_type": "code",
   "execution_count": 35,
   "metadata": {
    "collapsed": false
   },
   "outputs": [
    {
     "data": {
      "text/html": [
       "<div>\n",
       "<table border=\"1\" class=\"dataframe\">\n",
       "  <thead>\n",
       "    <tr style=\"text-align: right;\">\n",
       "      <th></th>\n",
       "      <th>job_title</th>\n",
       "      <th>result_code</th>\n",
       "      <th>clean_title</th>\n",
       "    </tr>\n",
       "  </thead>\n",
       "  <tbody>\n",
       "    <tr>\n",
       "      <th>0</th>\n",
       "      <td>SESpecialist</td>\n",
       "      <td>404</td>\n",
       "      <td>sespecialist</td>\n",
       "    </tr>\n",
       "    <tr>\n",
       "      <th>1</th>\n",
       "      <td>photeditor</td>\n",
       "      <td>404</td>\n",
       "      <td>photeditor</td>\n",
       "    </tr>\n",
       "    <tr>\n",
       "      <th>2</th>\n",
       "      <td>Production Arist</td>\n",
       "      <td>404</td>\n",
       "      <td>production arist</td>\n",
       "    </tr>\n",
       "    <tr>\n",
       "      <th>3</th>\n",
       "      <td>photArist</td>\n",
       "      <td>404</td>\n",
       "      <td>photarist</td>\n",
       "    </tr>\n",
       "    <tr>\n",
       "      <th>4</th>\n",
       "      <td>User Interface (UI) Developer</td>\n",
       "      <td>404</td>\n",
       "      <td>user interface  developer</td>\n",
       "    </tr>\n",
       "  </tbody>\n",
       "</table>\n",
       "</div>"
      ],
      "text/plain": [
       "                       job_title  result_code                clean_title\n",
       "0                   SESpecialist          404               sespecialist\n",
       "1                     photeditor          404                 photeditor\n",
       "2               Production Arist          404           production arist\n",
       "3                      photArist          404                  photarist\n",
       "4  User Interface (UI) Developer          404  user interface  developer"
      ]
     },
     "execution_count": 35,
     "metadata": {},
     "output_type": "execute_result"
    }
   ],
   "source": [
    "err_title_pd.head()"
   ]
  },
  {
   "cell_type": "code",
   "execution_count": 36,
   "metadata": {
    "collapsed": true
   },
   "outputs": [],
   "source": [
    "err_title_pd['result'] = ''\n",
    "err_title_pd['error_message'] = ''"
   ]
  },
  {
   "cell_type": "code",
   "execution_count": 40,
   "metadata": {
    "collapsed": false
   },
   "outputs": [
    {
     "name": "stdout",
     "output_type": "stream",
     "text": [
      "Index:  0\n",
      "r.json():  {'errorType': 'Exception', 'errorMessage': 'NotFoundError: Sorry we could not find any information for title: sespecialist', 'stackTrace': [['/var/task/function.py', 80, 'lambda_handler', \"raise Exception('NotFoundError: Sorry we could not find any information for title: ' + title or '')\"]]}\n",
      "Index:  1\n",
      "r.json():  {'errorType': 'Exception', 'errorMessage': 'NotFoundError: Sorry we could not find any information for title: photeditor', 'stackTrace': [['/var/task/function.py', 80, 'lambda_handler', \"raise Exception('NotFoundError: Sorry we could not find any information for title: ' + title or '')\"]]}\n",
      "Index:  2\n",
      "r.json():  {'errorType': 'Exception', 'errorMessage': 'NotFoundError: Sorry we could not find any information for title: production arist', 'stackTrace': [['/var/task/function.py', 80, 'lambda_handler', \"raise Exception('NotFoundError: Sorry we could not find any information for title: ' + title or '')\"]]}\n",
      "Index:  3\n",
      "r.json():  {'errorType': 'Exception', 'errorMessage': 'NotFoundError: Sorry we could not find any information for title: photarist', 'stackTrace': [['/var/task/function.py', 80, 'lambda_handler', \"raise Exception('NotFoundError: Sorry we could not find any information for title: ' + title or '')\"]]}\n",
      "Index:  4\n",
      "r.json():  {'stemmedJob': 'user interfac develop', 'education': [{'score': 6.4935064, 'name': 'msc information technology'}, {'score': 2.5974026, 'name': 'computer science and engineering'}, {'score': 14.285714, 'name': 'computer science'}, {'score': 6.4935064, 'name': 'ba (hons) finance'}, {'score': 6.4935064, 'name': 'msc banking and finance'}], 'previousJobs': [{'score': 3.5294118, 'name': 'software engineer'}, {'score': 7.0588236, 'name': 'developer'}, {'score': 9.411765, 'name': 'web developer'}, {'score': 2.3529413, 'name': 'user interface consultant'}, {'score': 2.3529413, 'name': 'network systems administration, st helen’s & knowsley pct'}], 'averageTime': 15, 'futureJobs': [{'score': 2.5, 'name': 'senior designer'}, {'score': 2.5, 'name': 'user interface consultant'}, {'score': 5.0, 'name': 'front end developer'}, {'score': 2.5, 'name': 'senior user experience manager'}, {'score': 5.0, 'name': 'web developer'}], 'skills': [{'score': 9.247019, 'name': 'user interface design'}, {'score': 7.697536, 'name': 'web development'}, {'score': 9.047056, 'name': 'user experience'}, {'score': 12.906322, 'name': 'css'}, {'score': 8.084934, 'name': 'html5'}, {'score': 9.333839, 'name': 'html 5'}, {'score': 12.09329, 'name': 'jquery'}, {'score': 9.671056, 'name': 'user interface'}, {'score': 12.474294, 'name': 'javascript'}, {'score': 9.444654, 'name': 'html'}], 'jobTitle': 'user interface  developer'}\n",
      "Index:  5\n",
      "r.json():  {'errorType': 'Exception', 'errorMessage': 'NotFoundError: Sorry we could not find any information for title: data sciene', 'stackTrace': [['/var/task/function.py', 80, 'lambda_handler', \"raise Exception('NotFoundError: Sorry we could not find any information for title: ' + title or '')\"]]}\n",
      "Index:  6\n",
      "r.json():  {'errorType': 'Exception', 'errorMessage': 'NotFoundError: Sorry we could not find any information for title: demand generation marketings lead', 'stackTrace': [['/var/task/function.py', 80, 'lambda_handler', \"raise Exception('NotFoundError: Sorry we could not find any information for title: ' + title or '')\"]]}\n",
      "Index:  7\n",
      "r.json():  {'errorType': 'Exception', 'errorMessage': 'NotFoundError: Sorry we could not find any information for title: research assistant at university', 'stackTrace': [['/var/task/function.py', 80, 'lambda_handler', \"raise Exception('NotFoundError: Sorry we could not find any information for title: ' + title or '')\"]]}\n",
      "Index:  8\n",
      "r.json():  {'stemmedJob': 'econom', 'education': [{'score': 2.7027028, 'name': 'statskundskab, bachelor'}, {'score': 2.7027028, 'name': 'nationalekonomi'}, {'score': 5.4054055, 'name': 'marketing'}, {'score': 21.621622, 'name': 'economics'}, {'score': 2.7027028, 'name': 'organizational innovation and entrepreneurship'}], 'previousJobs': [{'score': 2.7027028, 'name': 'order clerk'}, {'score': 5.4054055, 'name': 'marketing'}, {'score': 2.7027028, 'name': 'purchaser'}, {'score': 5.4054055, 'name': 'löne administratör'}, {'score': 2.7027028, 'name': 'logistics and supply chain'}], 'averageTime': 51, 'futureJobs': [{'score': 3.5714285, 'name': 'marketing manager'}, {'score': 3.5714285, 'name': 'owner'}, {'score': 1.7857143, 'name': 'service manager and configuration manager'}, {'score': 3.5714285, 'name': 'controller'}, {'score': 5.357143, 'name': 'sales'}], 'skills': [{'score': 6.841396, 'name': 'finance'}, {'score': 8.135087, 'name': 'team leadership'}, {'score': 6.550844, 'name': 'microsoft word'}, {'score': 12.750785, 'name': 'customer service'}, {'score': 9.776494, 'name': 'business strategy'}, {'score': 14.319662, 'name': 'microsoft office'}, {'score': 6.6766734, 'name': 'public relations'}, {'score': 11.304951, 'name': 'microsoft excel'}, {'score': 14.214246, 'name': 'economics'}, {'score': 9.429862, 'name': 'management'}], 'jobTitle': 'economics '}\n",
      "Index:  9\n",
      "r.json():  {'errorType': 'Exception', 'errorMessage': 'NotFoundError: Sorry we could not find any information for title: behavioral economics', 'stackTrace': [['/var/task/function.py', 80, 'lambda_handler', \"raise Exception('NotFoundError: Sorry we could not find any information for title: ' + title or '')\"]]}\n",
      "Index:  10\n",
      "r.json():  {'stemmedJob': 'psychometrician', 'education': [{'score': 19.23077, 'name': 'psychology'}, {'score': 3.8461537, 'name': 'industrial and organizational psychology'}, {'score': 7.6923075, 'name': 'clinical psychology'}, {'score': 5.769231, 'name': 'social/personality psychology'}, {'score': 3.8461537, 'name': 'degree of bachelor of science in business administration and economics specialization in marketing'}], 'previousJobs': [{'score': 3.8461537, 'name': 'practicum student'}, {'score': 7.6923075, 'name': 'senior lecturer'}, {'score': 3.8461537, 'name': 'child care educator'}, {'score': 3.8461537, 'name': 'academic tutor'}, {'score': 3.8461537, 'name': 'graduate student'}], 'averageTime': 22, 'futureJobs': [{'score': 3.8461537, 'name': 'head of r&d'}, {'score': 3.8461537, 'name': 'practicum student'}, {'score': 7.6923075, 'name': 'psychometrican/project manager'}, {'score': 3.8461537, 'name': 'measurement statistician'}, {'score': 3.8461537, 'name': 'multi-age classroom assistant'}], 'skills': [{'score': 10.976427, 'name': 'psychometrics'}, {'score': 12.904443, 'name': 'research design'}, {'score': 8.633528, 'name': 'data analysis'}, {'score': 8.256093, 'name': 'research'}, {'score': 9.442272, 'name': 'quantitative research'}, {'score': 7.308522, 'name': 'r'}, {'score': 13.070652, 'name': 'statistics'}, {'score': 7.953524, 'name': 'qualitative research'}, {'score': 10.23759, 'name': 'psychology'}, {'score': 11.2169485, 'name': 'spss'}], 'jobTitle': 'psychometrician '}\n",
      "Index:  11\n",
      "r.json():  {'errorType': 'Exception', 'errorMessage': 'NotFoundError: Sorry we could not find any information for title: other majors tlook for', 'stackTrace': [['/var/task/function.py', 80, 'lambda_handler', \"raise Exception('NotFoundError: Sorry we could not find any information for title: ' + title or '')\"]]}\n",
      "Index:  12\n",
      "r.json():  {'errorType': 'Exception', 'errorMessage': 'NotFoundError: Sorry we could not find any information for title: quantitative psychology', 'stackTrace': [['/var/task/function.py', 80, 'lambda_handler', \"raise Exception('NotFoundError: Sorry we could not find any information for title: ' + title or '')\"]]}\n",
      "Index:  13\n",
      "r.json():  {'errorType': 'Exception', 'errorMessage': 'NotFoundError: Sorry we could not find any information for title: astronomists', 'stackTrace': [['/var/task/function.py', 80, 'lambda_handler', \"raise Exception('NotFoundError: Sorry we could not find any information for title: ' + title or '')\"]]}\n",
      "Index:  14\n",
      "r.json():  {'errorType': 'Exception', 'errorMessage': 'NotFoundError: Sorry we could not find any information for title: html engineer', 'stackTrace': [['/var/task/function.py', 80, 'lambda_handler', \"raise Exception('NotFoundError: Sorry we could not find any information for title: ' + title or '')\"]]}\n",
      "Error:  HTTPSConnectionPool(host='goodwin.api.relinklabs.com', port=443): Max retries exceeded with url: /v1/explore?title=html5%20engineer (Caused by NewConnectionError('<requests.packages.urllib3.connection.VerifiedHTTPSConnection object at 0x7fcc260cc9b0>: Failed to establish a new connection: [Errno -3] Temporary failure in name resolution',))\n",
      "Index:  16\n",
      "r.json():  {'errorType': 'Exception', 'errorMessage': 'NotFoundError: Sorry we could not find any information for title: html5 programmer', 'stackTrace': [['/var/task/function.py', 80, 'lambda_handler', \"raise Exception('NotFoundError: Sorry we could not find any information for title: ' + title or '')\"]]}\n",
      "Index:  17\n",
      "r.json():  {'errorType': 'Exception', 'errorMessage': 'NotFoundError: Sorry we could not find any information for title: js programmer', 'stackTrace': [['/var/task/function.py', 80, 'lambda_handler', \"raise Exception('NotFoundError: Sorry we could not find any information for title: ' + title or '')\"]]}\n",
      "Index:  18\n",
      "r.json():  {'errorType': 'Exception', 'errorMessage': 'NotFoundError: Sorry we could not find any information for title: ajax engineer', 'stackTrace': [['/var/task/function.py', 80, 'lambda_handler', \"raise Exception('NotFoundError: Sorry we could not find any information for title: ' + title or '')\"]]}\n",
      "Index:  19\n",
      "r.json():  {'errorType': 'Exception', 'errorMessage': 'NotFoundError: Sorry we could not find any information for title: ajax programmer', 'stackTrace': [['/var/task/function.py', 80, 'lambda_handler', \"raise Exception('NotFoundError: Sorry we could not find any information for title: ' + title or '')\"]]}\n",
      "Index:  20\n",
      "r.json():  {'errorType': 'Exception', 'errorMessage': 'NotFoundError: Sorry we could not find any information for title: jquery engineer', 'stackTrace': [['/var/task/function.py', 80, 'lambda_handler', \"raise Exception('NotFoundError: Sorry we could not find any information for title: ' + title or '')\"]]}\n",
      "Index:  21\n",
      "r.json():  {'errorType': 'Exception', 'errorMessage': 'NotFoundError: Sorry we could not find any information for title: jquery programmer', 'stackTrace': [['/var/task/function.py', 80, 'lambda_handler', \"raise Exception('NotFoundError: Sorry we could not find any information for title: ' + title or '')\"]]}\n",
      "Index:  22\n",
      "r.json():  {'errorType': 'Exception', 'errorMessage': 'NotFoundError: Sorry we could not find any information for title: css engineer', 'stackTrace': [['/var/task/function.py', 80, 'lambda_handler', \"raise Exception('NotFoundError: Sorry we could not find any information for title: ' + title or '')\"]]}\n",
      "Index:  23\n",
      "r.json():  {'errorType': 'Exception', 'errorMessage': 'NotFoundError: Sorry we could not find any information for title: css programmer', 'stackTrace': [['/var/task/function.py', 80, 'lambda_handler', \"raise Exception('NotFoundError: Sorry we could not find any information for title: ' + title or '')\"]]}\n",
      "Index:  24\n",
      "r.json():  {'errorType': 'Exception', 'errorMessage': 'NotFoundError: Sorry we could not find any information for title: tier 1 2 3 support', 'stackTrace': [['/var/task/function.py', 80, 'lambda_handler', \"raise Exception('NotFoundError: Sorry we could not find any information for title: ' + title or '')\"]]}\n",
      "Index:  25\n",
      "r.json():  {'errorType': 'Exception', 'errorMessage': 'NotFoundError: Sorry we could not find any information for title: territory sales account', 'stackTrace': [['/var/task/function.py', 80, 'lambda_handler', \"raise Exception('NotFoundError: Sorry we could not find any information for title: ' + title or '')\"]]}\n",
      "Index:  26\n",
      "r.json():  {'errorType': 'Exception', 'errorMessage': 'NotFoundError: Sorry we could not find any information for title: clinical research operations', 'stackTrace': [['/var/task/function.py', 80, 'lambda_handler', \"raise Exception('NotFoundError: Sorry we could not find any information for title: ' + title or '')\"]]}\n",
      "Index:  27\n",
      "r.json():  {'errorType': 'Exception', 'errorMessage': 'NotFoundError: Sorry we could not find any information for title: quality diector', 'stackTrace': [['/var/task/function.py', 80, 'lambda_handler', \"raise Exception('NotFoundError: Sorry we could not find any information for title: ' + title or '')\"]]}\n",
      "Index:  28\n",
      "r.json():  {'errorType': 'Exception', 'errorMessage': 'NotFoundError: Sorry we could not find any information for title: fw', 'stackTrace': [['/var/task/function.py', 80, 'lambda_handler', \"raise Exception('NotFoundError: Sorry we could not find any information for title: ' + title or '')\"]]}\n",
      "Index:  29\n",
      "r.json():  {'errorType': 'Exception', 'errorMessage': 'NotFoundError: Sorry we could not find any information for title: procurement manager or procurement lead', 'stackTrace': [['/var/task/function.py', 80, 'lambda_handler', \"raise Exception('NotFoundError: Sorry we could not find any information for title: ' + title or '')\"]]}\n",
      "Index:  30\n",
      "r.json():  {'errorType': 'Exception', 'errorMessage': 'NotFoundError: Sorry we could not find any information for title: cloud storage performance architect', 'stackTrace': [['/var/task/function.py', 80, 'lambda_handler', \"raise Exception('NotFoundError: Sorry we could not find any information for title: ' + title or '')\"]]}\n",
      "Index:  31\n",
      "r.json():  {'errorType': 'Exception', 'errorMessage': 'NotFoundError: Sorry we could not find any information for title: senior manager businesstobusiness content marketings', 'stackTrace': [['/var/task/function.py', 80, 'lambda_handler', \"raise Exception('NotFoundError: Sorry we could not find any information for title: ' + title or '')\"]]}\n",
      "Error:  HTTPSConnectionPool(host='goodwin.api.relinklabs.com', port=443): Max retries exceeded with url: /v1/explore?title=senior%20manager%20businesstobusiness%20marketings (Caused by NewConnectionError('<requests.packages.urllib3.connection.VerifiedHTTPSConnection object at 0x7fcc259f0438>: Failed to establish a new connection: [Errno -3] Temporary failure in name resolution',))\n",
      "Index:  33\n",
      "r.json():  {'errorType': 'Exception', 'errorMessage': 'NotFoundError: Sorry we could not find any information for title: ios application', 'stackTrace': [['/var/task/function.py', 80, 'lambda_handler', \"raise Exception('NotFoundError: Sorry we could not find any information for title: ' + title or '')\"]]}\n",
      "Index:  34\n",
      "r.json():  {'errorType': 'Exception', 'errorMessage': 'NotFoundError: Sorry we could not find any information for title: qc or quality', 'stackTrace': [['/var/task/function.py', 80, 'lambda_handler', \"raise Exception('NotFoundError: Sorry we could not find any information for title: ' + title or '')\"]]}\n",
      "Index:  35\n",
      "r.json():  {'errorType': 'Exception', 'errorMessage': 'NotFoundError: Sorry we could not find any information for title: capa small and mediumsized enterprises', 'stackTrace': [['/var/task/function.py', 80, 'lambda_handler', \"raise Exception('NotFoundError: Sorry we could not find any information for title: ' + title or '')\"]]}\n",
      "Index:  36\n",
      "r.json():  {'errorType': 'Exception', 'errorMessage': 'NotFoundError: Sorry we could not find any information for title: clinical data', 'stackTrace': [['/var/task/function.py', 80, 'lambda_handler', \"raise Exception('NotFoundError: Sorry we could not find any information for title: ' + title or '')\"]]}\n",
      "Index:  37\n",
      "r.json():  {'errorType': 'Exception', 'errorMessage': 'NotFoundError: Sorry we could not find any information for title: clinical research monitoring associate', 'stackTrace': [['/var/task/function.py', 80, 'lambda_handler', \"raise Exception('NotFoundError: Sorry we could not find any information for title: ' + title or '')\"]]}\n",
      "Index:  38\n",
      "r.json():  {'errorType': 'Exception', 'errorMessage': 'NotFoundError: Sorry we could not find any information for title: in', 'stackTrace': [['/var/task/function.py', 80, 'lambda_handler', \"raise Exception('NotFoundError: Sorry we could not find any information for title: ' + title or '')\"]]}\n",
      "Index:  39\n",
      "r.json():  {'errorType': 'Exception', 'errorMessage': 'NotFoundError: Sorry we could not find any information for title: quality assurance change control', 'stackTrace': [['/var/task/function.py', 80, 'lambda_handler', \"raise Exception('NotFoundError: Sorry we could not find any information for title: ' + title or '')\"]]}\n",
      "Index:  40\n",
      "r.json():  {'errorType': 'Exception', 'errorMessage': 'NotFoundError: Sorry we could not find any information for title: art dr', 'stackTrace': [['/var/task/function.py', 80, 'lambda_handler', \"raise Exception('NotFoundError: Sorry we could not find any information for title: ' + title or '')\"]]}\n",
      "Error:  HTTPSConnectionPool(host='goodwin.api.relinklabs.com', port=443): Max retries exceeded with url: /v1/explore?title=front (Caused by NewConnectionError('<requests.packages.urllib3.connection.VerifiedHTTPSConnection object at 0x7fcc260cc898>: Failed to establish a new connection: [Errno -3] Temporary failure in name resolution',))\n"
     ]
    },
    {
     "ename": "KeyboardInterrupt",
     "evalue": "",
     "output_type": "error",
     "traceback": [
      "\u001b[0;31m---------------------------------------------------------------------------\u001b[0m",
      "\u001b[0;31mTypeError\u001b[0m                                 Traceback (most recent call last)",
      "\u001b[0;32m/home/quang/.local/lib/python3.5/site-packages/requests/packages/urllib3/connectionpool.py\u001b[0m in \u001b[0;36m_make_request\u001b[0;34m(self, conn, method, url, timeout, chunked, **httplib_request_kw)\u001b[0m\n\u001b[1;32m    378\u001b[0m             \u001b[0;32mtry\u001b[0m\u001b[0;34m:\u001b[0m  \u001b[0;31m# Python 2.7, use buffering of HTTP responses\u001b[0m\u001b[0;34m\u001b[0m\u001b[0m\n\u001b[0;32m--> 379\u001b[0;31m                 \u001b[0mhttplib_response\u001b[0m \u001b[0;34m=\u001b[0m \u001b[0mconn\u001b[0m\u001b[0;34m.\u001b[0m\u001b[0mgetresponse\u001b[0m\u001b[0;34m(\u001b[0m\u001b[0mbuffering\u001b[0m\u001b[0;34m=\u001b[0m\u001b[0;32mTrue\u001b[0m\u001b[0;34m)\u001b[0m\u001b[0;34m\u001b[0m\u001b[0m\n\u001b[0m\u001b[1;32m    380\u001b[0m             \u001b[0;32mexcept\u001b[0m \u001b[0mTypeError\u001b[0m\u001b[0;34m:\u001b[0m  \u001b[0;31m# Python 2.6 and older, Python 3\u001b[0m\u001b[0;34m\u001b[0m\u001b[0m\n",
      "\u001b[0;31mTypeError\u001b[0m: getresponse() got an unexpected keyword argument 'buffering'",
      "\nDuring handling of the above exception, another exception occurred:\n",
      "\u001b[0;31mKeyboardInterrupt\u001b[0m                         Traceback (most recent call last)",
      "\u001b[0;32m<ipython-input-40-863bf50149ba>\u001b[0m in \u001b[0;36m<module>\u001b[0;34m()\u001b[0m\n\u001b[1;32m      7\u001b[0m \u001b[0;34m\u001b[0m\u001b[0m\n\u001b[1;32m      8\u001b[0m         \u001b[0murl_title\u001b[0m \u001b[0;34m=\u001b[0m \u001b[0murl\u001b[0m \u001b[0;34m+\u001b[0m \u001b[0mtitle\u001b[0m\u001b[0;34m.\u001b[0m\u001b[0mreplace\u001b[0m\u001b[0;34m(\u001b[0m\u001b[0;34m' '\u001b[0m\u001b[0;34m,\u001b[0m\u001b[0;34m'%20'\u001b[0m\u001b[0;34m)\u001b[0m\u001b[0;34m\u001b[0m\u001b[0m\n\u001b[0;32m----> 9\u001b[0;31m         \u001b[0mr\u001b[0m \u001b[0;34m=\u001b[0m \u001b[0mrequests\u001b[0m\u001b[0;34m.\u001b[0m\u001b[0mget\u001b[0m\u001b[0;34m(\u001b[0m\u001b[0murl_title\u001b[0m\u001b[0;34m)\u001b[0m\u001b[0;34m\u001b[0m\u001b[0m\n\u001b[0m\u001b[1;32m     10\u001b[0m \u001b[0;34m\u001b[0m\u001b[0m\n\u001b[1;32m     11\u001b[0m         \u001b[0merr_title_pd\u001b[0m\u001b[0;34m.\u001b[0m\u001b[0mset_value\u001b[0m\u001b[0;34m(\u001b[0m\u001b[0mindex\u001b[0m\u001b[0;34m,\u001b[0m \u001b[0;34m'result_code'\u001b[0m\u001b[0;34m,\u001b[0m \u001b[0mr\u001b[0m\u001b[0;34m.\u001b[0m\u001b[0mstatus_code\u001b[0m\u001b[0;34m)\u001b[0m\u001b[0;34m\u001b[0m\u001b[0m\n",
      "\u001b[0;32m/home/quang/.local/lib/python3.5/site-packages/requests/api.py\u001b[0m in \u001b[0;36mget\u001b[0;34m(url, params, **kwargs)\u001b[0m\n\u001b[1;32m     68\u001b[0m \u001b[0;34m\u001b[0m\u001b[0m\n\u001b[1;32m     69\u001b[0m     \u001b[0mkwargs\u001b[0m\u001b[0;34m.\u001b[0m\u001b[0msetdefault\u001b[0m\u001b[0;34m(\u001b[0m\u001b[0;34m'allow_redirects'\u001b[0m\u001b[0;34m,\u001b[0m \u001b[0;32mTrue\u001b[0m\u001b[0;34m)\u001b[0m\u001b[0;34m\u001b[0m\u001b[0m\n\u001b[0;32m---> 70\u001b[0;31m     \u001b[0;32mreturn\u001b[0m \u001b[0mrequest\u001b[0m\u001b[0;34m(\u001b[0m\u001b[0;34m'get'\u001b[0m\u001b[0;34m,\u001b[0m \u001b[0murl\u001b[0m\u001b[0;34m,\u001b[0m \u001b[0mparams\u001b[0m\u001b[0;34m=\u001b[0m\u001b[0mparams\u001b[0m\u001b[0;34m,\u001b[0m \u001b[0;34m**\u001b[0m\u001b[0mkwargs\u001b[0m\u001b[0;34m)\u001b[0m\u001b[0;34m\u001b[0m\u001b[0m\n\u001b[0m\u001b[1;32m     71\u001b[0m \u001b[0;34m\u001b[0m\u001b[0m\n\u001b[1;32m     72\u001b[0m \u001b[0;34m\u001b[0m\u001b[0m\n",
      "\u001b[0;32m/home/quang/.local/lib/python3.5/site-packages/requests/api.py\u001b[0m in \u001b[0;36mrequest\u001b[0;34m(method, url, **kwargs)\u001b[0m\n\u001b[1;32m     54\u001b[0m     \u001b[0;31m# cases, and look like a memory leak in others.\u001b[0m\u001b[0;34m\u001b[0m\u001b[0;34m\u001b[0m\u001b[0m\n\u001b[1;32m     55\u001b[0m     \u001b[0;32mwith\u001b[0m \u001b[0msessions\u001b[0m\u001b[0;34m.\u001b[0m\u001b[0mSession\u001b[0m\u001b[0;34m(\u001b[0m\u001b[0;34m)\u001b[0m \u001b[0;32mas\u001b[0m \u001b[0msession\u001b[0m\u001b[0;34m:\u001b[0m\u001b[0;34m\u001b[0m\u001b[0m\n\u001b[0;32m---> 56\u001b[0;31m         \u001b[0;32mreturn\u001b[0m \u001b[0msession\u001b[0m\u001b[0;34m.\u001b[0m\u001b[0mrequest\u001b[0m\u001b[0;34m(\u001b[0m\u001b[0mmethod\u001b[0m\u001b[0;34m=\u001b[0m\u001b[0mmethod\u001b[0m\u001b[0;34m,\u001b[0m \u001b[0murl\u001b[0m\u001b[0;34m=\u001b[0m\u001b[0murl\u001b[0m\u001b[0;34m,\u001b[0m \u001b[0;34m**\u001b[0m\u001b[0mkwargs\u001b[0m\u001b[0;34m)\u001b[0m\u001b[0;34m\u001b[0m\u001b[0m\n\u001b[0m\u001b[1;32m     57\u001b[0m \u001b[0;34m\u001b[0m\u001b[0m\n\u001b[1;32m     58\u001b[0m \u001b[0;34m\u001b[0m\u001b[0m\n",
      "\u001b[0;32m/home/quang/.local/lib/python3.5/site-packages/requests/sessions.py\u001b[0m in \u001b[0;36mrequest\u001b[0;34m(self, method, url, params, data, headers, cookies, files, auth, timeout, allow_redirects, proxies, hooks, stream, verify, cert, json)\u001b[0m\n\u001b[1;32m    486\u001b[0m         }\n\u001b[1;32m    487\u001b[0m         \u001b[0msend_kwargs\u001b[0m\u001b[0;34m.\u001b[0m\u001b[0mupdate\u001b[0m\u001b[0;34m(\u001b[0m\u001b[0msettings\u001b[0m\u001b[0;34m)\u001b[0m\u001b[0;34m\u001b[0m\u001b[0m\n\u001b[0;32m--> 488\u001b[0;31m         \u001b[0mresp\u001b[0m \u001b[0;34m=\u001b[0m \u001b[0mself\u001b[0m\u001b[0;34m.\u001b[0m\u001b[0msend\u001b[0m\u001b[0;34m(\u001b[0m\u001b[0mprep\u001b[0m\u001b[0;34m,\u001b[0m \u001b[0;34m**\u001b[0m\u001b[0msend_kwargs\u001b[0m\u001b[0;34m)\u001b[0m\u001b[0;34m\u001b[0m\u001b[0m\n\u001b[0m\u001b[1;32m    489\u001b[0m \u001b[0;34m\u001b[0m\u001b[0m\n\u001b[1;32m    490\u001b[0m         \u001b[0;32mreturn\u001b[0m \u001b[0mresp\u001b[0m\u001b[0;34m\u001b[0m\u001b[0m\n",
      "\u001b[0;32m/home/quang/.local/lib/python3.5/site-packages/requests/sessions.py\u001b[0m in \u001b[0;36msend\u001b[0;34m(self, request, **kwargs)\u001b[0m\n\u001b[1;32m    607\u001b[0m \u001b[0;34m\u001b[0m\u001b[0m\n\u001b[1;32m    608\u001b[0m         \u001b[0;31m# Send the request\u001b[0m\u001b[0;34m\u001b[0m\u001b[0;34m\u001b[0m\u001b[0m\n\u001b[0;32m--> 609\u001b[0;31m         \u001b[0mr\u001b[0m \u001b[0;34m=\u001b[0m \u001b[0madapter\u001b[0m\u001b[0;34m.\u001b[0m\u001b[0msend\u001b[0m\u001b[0;34m(\u001b[0m\u001b[0mrequest\u001b[0m\u001b[0;34m,\u001b[0m \u001b[0;34m**\u001b[0m\u001b[0mkwargs\u001b[0m\u001b[0;34m)\u001b[0m\u001b[0;34m\u001b[0m\u001b[0m\n\u001b[0m\u001b[1;32m    610\u001b[0m \u001b[0;34m\u001b[0m\u001b[0m\n\u001b[1;32m    611\u001b[0m         \u001b[0;31m# Total elapsed time of the request (approximately)\u001b[0m\u001b[0;34m\u001b[0m\u001b[0;34m\u001b[0m\u001b[0m\n",
      "\u001b[0;32m/home/quang/.local/lib/python3.5/site-packages/requests/adapters.py\u001b[0m in \u001b[0;36msend\u001b[0;34m(self, request, stream, timeout, verify, cert, proxies)\u001b[0m\n\u001b[1;32m    421\u001b[0m                     \u001b[0mdecode_content\u001b[0m\u001b[0;34m=\u001b[0m\u001b[0;32mFalse\u001b[0m\u001b[0;34m,\u001b[0m\u001b[0;34m\u001b[0m\u001b[0m\n\u001b[1;32m    422\u001b[0m                     \u001b[0mretries\u001b[0m\u001b[0;34m=\u001b[0m\u001b[0mself\u001b[0m\u001b[0;34m.\u001b[0m\u001b[0mmax_retries\u001b[0m\u001b[0;34m,\u001b[0m\u001b[0;34m\u001b[0m\u001b[0m\n\u001b[0;32m--> 423\u001b[0;31m                     \u001b[0mtimeout\u001b[0m\u001b[0;34m=\u001b[0m\u001b[0mtimeout\u001b[0m\u001b[0;34m\u001b[0m\u001b[0m\n\u001b[0m\u001b[1;32m    424\u001b[0m                 )\n\u001b[1;32m    425\u001b[0m \u001b[0;34m\u001b[0m\u001b[0m\n",
      "\u001b[0;32m/home/quang/.local/lib/python3.5/site-packages/requests/packages/urllib3/connectionpool.py\u001b[0m in \u001b[0;36murlopen\u001b[0;34m(self, method, url, body, headers, retries, redirect, assert_same_host, timeout, pool_timeout, release_conn, chunked, body_pos, **response_kw)\u001b[0m\n\u001b[1;32m    598\u001b[0m                                                   \u001b[0mtimeout\u001b[0m\u001b[0;34m=\u001b[0m\u001b[0mtimeout_obj\u001b[0m\u001b[0;34m,\u001b[0m\u001b[0;34m\u001b[0m\u001b[0m\n\u001b[1;32m    599\u001b[0m                                                   \u001b[0mbody\u001b[0m\u001b[0;34m=\u001b[0m\u001b[0mbody\u001b[0m\u001b[0;34m,\u001b[0m \u001b[0mheaders\u001b[0m\u001b[0;34m=\u001b[0m\u001b[0mheaders\u001b[0m\u001b[0;34m,\u001b[0m\u001b[0;34m\u001b[0m\u001b[0m\n\u001b[0;32m--> 600\u001b[0;31m                                                   chunked=chunked)\n\u001b[0m\u001b[1;32m    601\u001b[0m \u001b[0;34m\u001b[0m\u001b[0m\n\u001b[1;32m    602\u001b[0m             \u001b[0;31m# If we're going to release the connection in ``finally:``, then\u001b[0m\u001b[0;34m\u001b[0m\u001b[0;34m\u001b[0m\u001b[0m\n",
      "\u001b[0;32m/home/quang/.local/lib/python3.5/site-packages/requests/packages/urllib3/connectionpool.py\u001b[0m in \u001b[0;36m_make_request\u001b[0;34m(self, conn, method, url, timeout, chunked, **httplib_request_kw)\u001b[0m\n\u001b[1;32m    380\u001b[0m             \u001b[0;32mexcept\u001b[0m \u001b[0mTypeError\u001b[0m\u001b[0;34m:\u001b[0m  \u001b[0;31m# Python 2.6 and older, Python 3\u001b[0m\u001b[0;34m\u001b[0m\u001b[0m\n\u001b[1;32m    381\u001b[0m                 \u001b[0;32mtry\u001b[0m\u001b[0;34m:\u001b[0m\u001b[0;34m\u001b[0m\u001b[0m\n\u001b[0;32m--> 382\u001b[0;31m                     \u001b[0mhttplib_response\u001b[0m \u001b[0;34m=\u001b[0m \u001b[0mconn\u001b[0m\u001b[0;34m.\u001b[0m\u001b[0mgetresponse\u001b[0m\u001b[0;34m(\u001b[0m\u001b[0;34m)\u001b[0m\u001b[0;34m\u001b[0m\u001b[0m\n\u001b[0m\u001b[1;32m    383\u001b[0m                 \u001b[0;32mexcept\u001b[0m \u001b[0mException\u001b[0m \u001b[0;32mas\u001b[0m \u001b[0me\u001b[0m\u001b[0;34m:\u001b[0m\u001b[0;34m\u001b[0m\u001b[0m\n\u001b[1;32m    384\u001b[0m                     \u001b[0;31m# Remove the TypeError from the exception chain in Python 3;\u001b[0m\u001b[0;34m\u001b[0m\u001b[0;34m\u001b[0m\u001b[0m\n",
      "\u001b[0;32m/usr/lib/python3.5/http/client.py\u001b[0m in \u001b[0;36mgetresponse\u001b[0;34m(self)\u001b[0m\n\u001b[1;32m   1195\u001b[0m         \u001b[0;32mtry\u001b[0m\u001b[0;34m:\u001b[0m\u001b[0;34m\u001b[0m\u001b[0m\n\u001b[1;32m   1196\u001b[0m             \u001b[0;32mtry\u001b[0m\u001b[0;34m:\u001b[0m\u001b[0;34m\u001b[0m\u001b[0m\n\u001b[0;32m-> 1197\u001b[0;31m                 \u001b[0mresponse\u001b[0m\u001b[0;34m.\u001b[0m\u001b[0mbegin\u001b[0m\u001b[0;34m(\u001b[0m\u001b[0;34m)\u001b[0m\u001b[0;34m\u001b[0m\u001b[0m\n\u001b[0m\u001b[1;32m   1198\u001b[0m             \u001b[0;32mexcept\u001b[0m \u001b[0mConnectionError\u001b[0m\u001b[0;34m:\u001b[0m\u001b[0;34m\u001b[0m\u001b[0m\n\u001b[1;32m   1199\u001b[0m                 \u001b[0mself\u001b[0m\u001b[0;34m.\u001b[0m\u001b[0mclose\u001b[0m\u001b[0;34m(\u001b[0m\u001b[0;34m)\u001b[0m\u001b[0;34m\u001b[0m\u001b[0m\n",
      "\u001b[0;32m/usr/lib/python3.5/http/client.py\u001b[0m in \u001b[0;36mbegin\u001b[0;34m(self)\u001b[0m\n\u001b[1;32m    295\u001b[0m         \u001b[0;31m# read until we get a non-100 response\u001b[0m\u001b[0;34m\u001b[0m\u001b[0;34m\u001b[0m\u001b[0m\n\u001b[1;32m    296\u001b[0m         \u001b[0;32mwhile\u001b[0m \u001b[0;32mTrue\u001b[0m\u001b[0;34m:\u001b[0m\u001b[0;34m\u001b[0m\u001b[0m\n\u001b[0;32m--> 297\u001b[0;31m             \u001b[0mversion\u001b[0m\u001b[0;34m,\u001b[0m \u001b[0mstatus\u001b[0m\u001b[0;34m,\u001b[0m \u001b[0mreason\u001b[0m \u001b[0;34m=\u001b[0m \u001b[0mself\u001b[0m\u001b[0;34m.\u001b[0m\u001b[0m_read_status\u001b[0m\u001b[0;34m(\u001b[0m\u001b[0;34m)\u001b[0m\u001b[0;34m\u001b[0m\u001b[0m\n\u001b[0m\u001b[1;32m    298\u001b[0m             \u001b[0;32mif\u001b[0m \u001b[0mstatus\u001b[0m \u001b[0;34m!=\u001b[0m \u001b[0mCONTINUE\u001b[0m\u001b[0;34m:\u001b[0m\u001b[0;34m\u001b[0m\u001b[0m\n\u001b[1;32m    299\u001b[0m                 \u001b[0;32mbreak\u001b[0m\u001b[0;34m\u001b[0m\u001b[0m\n",
      "\u001b[0;32m/usr/lib/python3.5/http/client.py\u001b[0m in \u001b[0;36m_read_status\u001b[0;34m(self)\u001b[0m\n\u001b[1;32m    256\u001b[0m \u001b[0;34m\u001b[0m\u001b[0m\n\u001b[1;32m    257\u001b[0m     \u001b[0;32mdef\u001b[0m \u001b[0m_read_status\u001b[0m\u001b[0;34m(\u001b[0m\u001b[0mself\u001b[0m\u001b[0;34m)\u001b[0m\u001b[0;34m:\u001b[0m\u001b[0;34m\u001b[0m\u001b[0m\n\u001b[0;32m--> 258\u001b[0;31m         \u001b[0mline\u001b[0m \u001b[0;34m=\u001b[0m \u001b[0mstr\u001b[0m\u001b[0;34m(\u001b[0m\u001b[0mself\u001b[0m\u001b[0;34m.\u001b[0m\u001b[0mfp\u001b[0m\u001b[0;34m.\u001b[0m\u001b[0mreadline\u001b[0m\u001b[0;34m(\u001b[0m\u001b[0m_MAXLINE\u001b[0m \u001b[0;34m+\u001b[0m \u001b[0;36m1\u001b[0m\u001b[0;34m)\u001b[0m\u001b[0;34m,\u001b[0m \u001b[0;34m\"iso-8859-1\"\u001b[0m\u001b[0;34m)\u001b[0m\u001b[0;34m\u001b[0m\u001b[0m\n\u001b[0m\u001b[1;32m    259\u001b[0m         \u001b[0;32mif\u001b[0m \u001b[0mlen\u001b[0m\u001b[0;34m(\u001b[0m\u001b[0mline\u001b[0m\u001b[0;34m)\u001b[0m \u001b[0;34m>\u001b[0m \u001b[0m_MAXLINE\u001b[0m\u001b[0;34m:\u001b[0m\u001b[0;34m\u001b[0m\u001b[0m\n\u001b[1;32m    260\u001b[0m             \u001b[0;32mraise\u001b[0m \u001b[0mLineTooLong\u001b[0m\u001b[0;34m(\u001b[0m\u001b[0;34m\"status line\"\u001b[0m\u001b[0;34m)\u001b[0m\u001b[0;34m\u001b[0m\u001b[0m\n",
      "\u001b[0;32m/usr/lib/python3.5/socket.py\u001b[0m in \u001b[0;36mreadinto\u001b[0;34m(self, b)\u001b[0m\n\u001b[1;32m    573\u001b[0m         \u001b[0;32mwhile\u001b[0m \u001b[0;32mTrue\u001b[0m\u001b[0;34m:\u001b[0m\u001b[0;34m\u001b[0m\u001b[0m\n\u001b[1;32m    574\u001b[0m             \u001b[0;32mtry\u001b[0m\u001b[0;34m:\u001b[0m\u001b[0;34m\u001b[0m\u001b[0m\n\u001b[0;32m--> 575\u001b[0;31m                 \u001b[0;32mreturn\u001b[0m \u001b[0mself\u001b[0m\u001b[0;34m.\u001b[0m\u001b[0m_sock\u001b[0m\u001b[0;34m.\u001b[0m\u001b[0mrecv_into\u001b[0m\u001b[0;34m(\u001b[0m\u001b[0mb\u001b[0m\u001b[0;34m)\u001b[0m\u001b[0;34m\u001b[0m\u001b[0m\n\u001b[0m\u001b[1;32m    576\u001b[0m             \u001b[0;32mexcept\u001b[0m \u001b[0mtimeout\u001b[0m\u001b[0;34m:\u001b[0m\u001b[0;34m\u001b[0m\u001b[0m\n\u001b[1;32m    577\u001b[0m                 \u001b[0mself\u001b[0m\u001b[0;34m.\u001b[0m\u001b[0m_timeout_occurred\u001b[0m \u001b[0;34m=\u001b[0m \u001b[0;32mTrue\u001b[0m\u001b[0;34m\u001b[0m\u001b[0m\n",
      "\u001b[0;32m/usr/lib/python3.5/ssl.py\u001b[0m in \u001b[0;36mrecv_into\u001b[0;34m(self, buffer, nbytes, flags)\u001b[0m\n\u001b[1;32m    927\u001b[0m                   \u001b[0;34m\"non-zero flags not allowed in calls to recv_into() on %s\"\u001b[0m \u001b[0;34m%\u001b[0m\u001b[0;34m\u001b[0m\u001b[0m\n\u001b[1;32m    928\u001b[0m                   self.__class__)\n\u001b[0;32m--> 929\u001b[0;31m             \u001b[0;32mreturn\u001b[0m \u001b[0mself\u001b[0m\u001b[0;34m.\u001b[0m\u001b[0mread\u001b[0m\u001b[0;34m(\u001b[0m\u001b[0mnbytes\u001b[0m\u001b[0;34m,\u001b[0m \u001b[0mbuffer\u001b[0m\u001b[0;34m)\u001b[0m\u001b[0;34m\u001b[0m\u001b[0m\n\u001b[0m\u001b[1;32m    930\u001b[0m         \u001b[0;32melse\u001b[0m\u001b[0;34m:\u001b[0m\u001b[0;34m\u001b[0m\u001b[0m\n\u001b[1;32m    931\u001b[0m             \u001b[0;32mreturn\u001b[0m \u001b[0msocket\u001b[0m\u001b[0;34m.\u001b[0m\u001b[0mrecv_into\u001b[0m\u001b[0;34m(\u001b[0m\u001b[0mself\u001b[0m\u001b[0;34m,\u001b[0m \u001b[0mbuffer\u001b[0m\u001b[0;34m,\u001b[0m \u001b[0mnbytes\u001b[0m\u001b[0;34m,\u001b[0m \u001b[0mflags\u001b[0m\u001b[0;34m)\u001b[0m\u001b[0;34m\u001b[0m\u001b[0m\n",
      "\u001b[0;32m/usr/lib/python3.5/ssl.py\u001b[0m in \u001b[0;36mread\u001b[0;34m(self, len, buffer)\u001b[0m\n\u001b[1;32m    789\u001b[0m             \u001b[0;32mraise\u001b[0m \u001b[0mValueError\u001b[0m\u001b[0;34m(\u001b[0m\u001b[0;34m\"Read on closed or unwrapped SSL socket.\"\u001b[0m\u001b[0;34m)\u001b[0m\u001b[0;34m\u001b[0m\u001b[0m\n\u001b[1;32m    790\u001b[0m         \u001b[0;32mtry\u001b[0m\u001b[0;34m:\u001b[0m\u001b[0;34m\u001b[0m\u001b[0m\n\u001b[0;32m--> 791\u001b[0;31m             \u001b[0;32mreturn\u001b[0m \u001b[0mself\u001b[0m\u001b[0;34m.\u001b[0m\u001b[0m_sslobj\u001b[0m\u001b[0;34m.\u001b[0m\u001b[0mread\u001b[0m\u001b[0;34m(\u001b[0m\u001b[0mlen\u001b[0m\u001b[0;34m,\u001b[0m \u001b[0mbuffer\u001b[0m\u001b[0;34m)\u001b[0m\u001b[0;34m\u001b[0m\u001b[0m\n\u001b[0m\u001b[1;32m    792\u001b[0m         \u001b[0;32mexcept\u001b[0m \u001b[0mSSLError\u001b[0m \u001b[0;32mas\u001b[0m \u001b[0mx\u001b[0m\u001b[0;34m:\u001b[0m\u001b[0;34m\u001b[0m\u001b[0m\n\u001b[1;32m    793\u001b[0m             \u001b[0;32mif\u001b[0m \u001b[0mx\u001b[0m\u001b[0;34m.\u001b[0m\u001b[0margs\u001b[0m\u001b[0;34m[\u001b[0m\u001b[0;36m0\u001b[0m\u001b[0;34m]\u001b[0m \u001b[0;34m==\u001b[0m \u001b[0mSSL_ERROR_EOF\u001b[0m \u001b[0;32mand\u001b[0m \u001b[0mself\u001b[0m\u001b[0;34m.\u001b[0m\u001b[0msuppress_ragged_eofs\u001b[0m\u001b[0;34m:\u001b[0m\u001b[0;34m\u001b[0m\u001b[0m\n",
      "\u001b[0;32m/usr/lib/python3.5/ssl.py\u001b[0m in \u001b[0;36mread\u001b[0;34m(self, len, buffer)\u001b[0m\n\u001b[1;32m    573\u001b[0m         \"\"\"\n\u001b[1;32m    574\u001b[0m         \u001b[0;32mif\u001b[0m \u001b[0mbuffer\u001b[0m \u001b[0;32mis\u001b[0m \u001b[0;32mnot\u001b[0m \u001b[0;32mNone\u001b[0m\u001b[0;34m:\u001b[0m\u001b[0;34m\u001b[0m\u001b[0m\n\u001b[0;32m--> 575\u001b[0;31m             \u001b[0mv\u001b[0m \u001b[0;34m=\u001b[0m \u001b[0mself\u001b[0m\u001b[0;34m.\u001b[0m\u001b[0m_sslobj\u001b[0m\u001b[0;34m.\u001b[0m\u001b[0mread\u001b[0m\u001b[0;34m(\u001b[0m\u001b[0mlen\u001b[0m\u001b[0;34m,\u001b[0m \u001b[0mbuffer\u001b[0m\u001b[0;34m)\u001b[0m\u001b[0;34m\u001b[0m\u001b[0m\n\u001b[0m\u001b[1;32m    576\u001b[0m         \u001b[0;32melse\u001b[0m\u001b[0;34m:\u001b[0m\u001b[0;34m\u001b[0m\u001b[0m\n\u001b[1;32m    577\u001b[0m             \u001b[0mv\u001b[0m \u001b[0;34m=\u001b[0m \u001b[0mself\u001b[0m\u001b[0;34m.\u001b[0m\u001b[0m_sslobj\u001b[0m\u001b[0;34m.\u001b[0m\u001b[0mread\u001b[0m\u001b[0;34m(\u001b[0m\u001b[0mlen\u001b[0m\u001b[0;34m)\u001b[0m\u001b[0;34m\u001b[0m\u001b[0m\n",
      "\u001b[0;31mKeyboardInterrupt\u001b[0m: "
     ]
    }
   ],
   "source": [
    "url = 'https://goodwin.api.relinklabs.com/v1/explore?title='\n",
    "\n",
    "for index, row in err_title_pd.iterrows():\n",
    "    \n",
    "    try:\n",
    "        title = row['clean_title']\n",
    "\n",
    "        url_title = url + title.replace(' ','%20')\n",
    "        r = requests.get(url_title)\n",
    "\n",
    "        err_title_pd.set_value(index, 'result_code', r.status_code)\n",
    "\n",
    "        print(\"Index: \", index)\n",
    "        print(\"r.json(): \", r.json())\n",
    "\n",
    "        if(r.status_code == 200):\n",
    "            err_title_pd.set_value(index, 'result', str(r.json()))\n",
    "        else:\n",
    "            err_title_pd.set_value(index, 'error_message', str(r.json()))\n",
    "    except Exception as e:\n",
    "        print (\"Error: \", e)\n",
    "        time.sleep(5)\n",
    "        continue\n",
    "        \n",
    "        "
   ]
  },
  {
   "cell_type": "code",
   "execution_count": 43,
   "metadata": {
    "collapsed": false
   },
   "outputs": [
    {
     "data": {
      "text/html": [
       "<div>\n",
       "<table border=\"1\" class=\"dataframe\">\n",
       "  <thead>\n",
       "    <tr style=\"text-align: right;\">\n",
       "      <th></th>\n",
       "      <th>job_title</th>\n",
       "      <th>result_code</th>\n",
       "      <th>clean_title</th>\n",
       "      <th>result</th>\n",
       "      <th>error_message</th>\n",
       "    </tr>\n",
       "  </thead>\n",
       "  <tbody>\n",
       "    <tr>\n",
       "      <th>4</th>\n",
       "      <td>User Interface (UI) Developer</td>\n",
       "      <td>200</td>\n",
       "      <td>user interface  developer</td>\n",
       "      <td>{'stemmedJob': 'user interfac develop', 'educa...</td>\n",
       "      <td></td>\n",
       "    </tr>\n",
       "    <tr>\n",
       "      <th>8</th>\n",
       "      <td>Economics (quantitative)</td>\n",
       "      <td>200</td>\n",
       "      <td>economics</td>\n",
       "      <td>{'stemmedJob': 'econom', 'education': [{'score...</td>\n",
       "      <td></td>\n",
       "    </tr>\n",
       "    <tr>\n",
       "      <th>10</th>\n",
       "      <td>Psychometrician (measuring mental capacities)</td>\n",
       "      <td>200</td>\n",
       "      <td>psychometrician</td>\n",
       "      <td>{'stemmedJob': 'psychometrician', 'education':...</td>\n",
       "      <td></td>\n",
       "    </tr>\n",
       "  </tbody>\n",
       "</table>\n",
       "</div>"
      ],
      "text/plain": [
       "                                        job_title  result_code  \\\n",
       "4                   User Interface (UI) Developer          200   \n",
       "8                        Economics (quantitative)          200   \n",
       "10  Psychometrician (measuring mental capacities)          200   \n",
       "\n",
       "                  clean_title  \\\n",
       "4   user interface  developer   \n",
       "8                  economics    \n",
       "10           psychometrician    \n",
       "\n",
       "                                               result error_message  \n",
       "4   {'stemmedJob': 'user interfac develop', 'educa...                \n",
       "8   {'stemmedJob': 'econom', 'education': [{'score...                \n",
       "10  {'stemmedJob': 'psychometrician', 'education':...                "
      ]
     },
     "execution_count": 43,
     "metadata": {},
     "output_type": "execute_result"
    }
   ],
   "source": [
    "err_title_pd[err_title_pd.result_code == 200]"
   ]
  }
 ],
 "metadata": {
  "kernelspec": {
   "display_name": "Python 3",
   "language": "python",
   "name": "python3"
  },
  "language_info": {
   "codemirror_mode": {
    "name": "ipython",
    "version": 3
   },
   "file_extension": ".py",
   "mimetype": "text/x-python",
   "name": "python",
   "nbconvert_exporter": "python",
   "pygments_lexer": "ipython3",
   "version": "3.5.2"
  }
 },
 "nbformat": 4,
 "nbformat_minor": 2
}
