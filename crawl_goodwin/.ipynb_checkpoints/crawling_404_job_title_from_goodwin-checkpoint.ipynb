{
 "cells": [
  {
   "cell_type": "code",
   "execution_count": 31,
   "metadata": {
    "collapsed": false,
    "deletable": true,
    "editable": true
   },
   "outputs": [],
   "source": [
    "import pandas as pd\n",
    "import clean_job_title as c\n",
    "import requests\n",
    "import json\n",
    "import time\n",
    "\n",
    "suggest_word_dict = pd.read_csv(\"words_not_in_en_2.csv\")"
   ]
  },
  {
   "cell_type": "code",
   "execution_count": 32,
   "metadata": {
    "collapsed": false,
    "deletable": true,
    "editable": true
   },
   "outputs": [],
   "source": [
    "err_title_pd = pd.read_csv(\"error_title.txt\")"
   ]
  },
  {
   "cell_type": "code",
   "execution_count": 33,
   "metadata": {
    "collapsed": true,
    "deletable": true,
    "editable": true
   },
   "outputs": [],
   "source": [
    "def clean_job_title(job_title):\n",
    "    clean_title, clean_score = c.standard_job_title(job_title, suggest_word_dict)\n",
    "    return clean_title"
   ]
  },
  {
   "cell_type": "code",
   "execution_count": 34,
   "metadata": {
    "collapsed": false,
    "deletable": true,
    "editable": true
   },
   "outputs": [],
   "source": [
    "err_title_pd['clean_title'] = err_title_pd.apply(lambda x: clean_job_title(x['job_title']), axis=1)"
   ]
  },
  {
   "cell_type": "code",
   "execution_count": 35,
   "metadata": {
    "collapsed": false
   },
   "outputs": [
    {
     "data": {
      "text/html": [
       "<div>\n",
       "<table border=\"1\" class=\"dataframe\">\n",
       "  <thead>\n",
       "    <tr style=\"text-align: right;\">\n",
       "      <th></th>\n",
       "      <th>job_title</th>\n",
       "      <th>result_code</th>\n",
       "      <th>clean_title</th>\n",
       "    </tr>\n",
       "  </thead>\n",
       "  <tbody>\n",
       "    <tr>\n",
       "      <th>0</th>\n",
       "      <td>SESpecialist</td>\n",
       "      <td>404</td>\n",
       "      <td>sespecialist</td>\n",
       "    </tr>\n",
       "    <tr>\n",
       "      <th>1</th>\n",
       "      <td>photeditor</td>\n",
       "      <td>404</td>\n",
       "      <td>photeditor</td>\n",
       "    </tr>\n",
       "    <tr>\n",
       "      <th>2</th>\n",
       "      <td>Production Arist</td>\n",
       "      <td>404</td>\n",
       "      <td>production arist</td>\n",
       "    </tr>\n",
       "    <tr>\n",
       "      <th>3</th>\n",
       "      <td>photArist</td>\n",
       "      <td>404</td>\n",
       "      <td>photarist</td>\n",
       "    </tr>\n",
       "    <tr>\n",
       "      <th>4</th>\n",
       "      <td>User Interface (UI) Developer</td>\n",
       "      <td>404</td>\n",
       "      <td>user interface  developer</td>\n",
       "    </tr>\n",
       "  </tbody>\n",
       "</table>\n",
       "</div>"
      ],
      "text/plain": [
       "                       job_title  result_code                clean_title\n",
       "0                   SESpecialist          404               sespecialist\n",
       "1                     photeditor          404                 photeditor\n",
       "2               Production Arist          404           production arist\n",
       "3                      photArist          404                  photarist\n",
       "4  User Interface (UI) Developer          404  user interface  developer"
      ]
     },
     "execution_count": 35,
     "metadata": {},
     "output_type": "execute_result"
    }
   ],
   "source": [
    "err_title_pd.head()"
   ]
  },
  {
   "cell_type": "code",
   "execution_count": 36,
   "metadata": {
    "collapsed": true
   },
   "outputs": [],
   "source": [
    "err_title_pd['result'] = ''\n",
    "err_title_pd['error_message'] = ''"
   ]
  },
  {
   "cell_type": "code",
   "execution_count": 38,
   "metadata": {
    "collapsed": false
   },
   "outputs": [
    {
     "ename": "SyntaxError",
     "evalue": "invalid syntax (<ipython-input-38-8553482e45a1>, line 20)",
     "output_type": "error",
     "traceback": [
      "\u001b[0;36m  File \u001b[0;32m\"<ipython-input-38-8553482e45a1>\"\u001b[0;36m, line \u001b[0;32m20\u001b[0m\n\u001b[0;31m    except\u001b[0m\n\u001b[0m           ^\u001b[0m\n\u001b[0;31mSyntaxError\u001b[0m\u001b[0;31m:\u001b[0m invalid syntax\n"
     ]
    }
   ],
   "source": [
    "url = 'https://goodwin.api.relinklabs.com/v1/explore?title='\n",
    "\n",
    "for index, row in err_title_pd.iterrows():\n",
    "    \n",
    "    try:\n",
    "        title = row['clean_title']\n",
    "\n",
    "        url_title = url + title.replace(' ','%20')\n",
    "        r = requests.get(url_title)\n",
    "\n",
    "        err_title_pd.set_value(index, 'result_code', r.status_code)\n",
    "\n",
    "        print(\"Index: \", index)\n",
    "        print(\"r.json(): \", r.json())\n",
    "\n",
    "        if(r.status_code == 200):\n",
    "            err_title_pd.set_value(index, 'result', str(r.json()))\n",
    "        else:\n",
    "            err_title_pd.set_value(index, 'error_message', str(r.json()))\n",
    "    except Exception as e\n",
    "        print (\"Error: \", e)\n",
    "        time.sleep(5)\n",
    "        continue\n",
    "        \n",
    "        "
   ]
  },
  {
   "cell_type": "code",
   "execution_count": null,
   "metadata": {
    "collapsed": false
   },
   "outputs": [],
   "source": [
    "err_title_pd"
   ]
  }
 ],
 "metadata": {
  "kernelspec": {
   "display_name": "Python 3",
   "language": "python",
   "name": "python3"
  },
  "language_info": {
   "codemirror_mode": {
    "name": "ipython",
    "version": 3
   },
   "file_extension": ".py",
   "mimetype": "text/x-python",
   "name": "python",
   "nbconvert_exporter": "python",
   "pygments_lexer": "ipython3",
   "version": "3.5.2"
  }
 },
 "nbformat": 4,
 "nbformat_minor": 2
}
